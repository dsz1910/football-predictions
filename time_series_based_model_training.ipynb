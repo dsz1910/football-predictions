{
 "cells": [
  {
   "cell_type": "code",
   "execution_count": 1,
   "id": "62bcb5b8",
   "metadata": {},
   "outputs": [],
   "source": [
    "import pickle\n",
    "import numpy as np\n",
    "import pandas as pd\n",
    "import torch\n",
    "from torch import nn\n",
    "from torch.utils.data import Dataset, DataLoader, Subset\n",
    "from torch.nn.utils.rnn import pad_sequence, pack_padded_sequence\n",
    "from torch import optim\n",
    "from sklearn.model_selection import KFold\n",
    "import sklearn\n",
    "from numpy import random\n",
    "from model_architecture import MatchPredictor\n",
    "pd.options.display.max_rows = 50"
   ]
  },
  {
   "cell_type": "code",
   "execution_count": 2,
   "id": "9756ba23",
   "metadata": {},
   "outputs": [
    {
     "data": {
      "text/plain": [
       "device(type='cuda')"
      ]
     },
     "execution_count": 2,
     "metadata": {},
     "output_type": "execute_result"
    }
   ],
   "source": [
    "device = torch.device('cuda' if torch.cuda.is_available else 'cpu')\n",
    "device"
   ]
  },
  {
   "cell_type": "code",
   "execution_count": 9,
   "id": "6d106e12",
   "metadata": {},
   "outputs": [],
   "source": [
    "with open('time_series_dataset.pkl', 'rb') as file:\n",
    "    data = pickle.load(file)"
   ]
  },
  {
   "cell_type": "code",
   "execution_count": null,
   "id": "0975f29f",
   "metadata": {},
   "outputs": [],
   "source": [
    "for values in data.values():\n",
    "    values[1].drop(['away_name', 'home_name', 'match_date'], inplace=True, axis=1)\n",
    "    values[2].drop(['away_name', 'home_name', 'match_date'], inplace=True, axis=1)"
   ]
  },
  {
   "cell_type": "code",
   "execution_count": null,
   "id": "0e4b360f",
   "metadata": {},
   "outputs": [
    {
     "name": "stdout",
     "output_type": "stream",
     "text": [
      "<class 'pandas.core.frame.DataFrame'>\n",
      "Index: 3 entries, 297 to 284\n",
      "Data columns (total 42 columns):\n",
      " #   Column                        Non-Null Count  Dtype  \n",
      "---  ------                        --------------  -----  \n",
      " 0   away_acc_passes               3 non-null      float64\n",
      " 1   away_acc_shots                3 non-null      float64\n",
      " 2   away_corners                  3 non-null      float64\n",
      " 3   away_excluded_count           3 non-null      float64\n",
      " 4   away_formation                3 non-null      Int64  \n",
      " 5   away_fouls                    3 non-null      float64\n",
      " 6   away_free_kicks               3 non-null      float64\n",
      " 7   away_goalkeeper_saves         3 non-null      float64\n",
      " 8   away_goals                    3 non-null      float64\n",
      " 9   away_inacc_shots              3 non-null      float64\n",
      " 10  away_mean_raiting             3 non-null      float64\n",
      " 11  away_offsides                 3 non-null      float64\n",
      " 12  away_passes                   3 non-null      float64\n",
      " 13  away_points                   3 non-null      float64\n",
      " 14  away_position                 3 non-null      float64\n",
      " 15  away_shots                    3 non-null      float64\n",
      " 16  away_xG                       3 non-null      float64\n",
      " 17  home_acc_passes               3 non-null      float64\n",
      " 18  home_acc_shots                3 non-null      float64\n",
      " 19  home_corners                  3 non-null      float64\n",
      " 20  home_excluded_count           3 non-null      float64\n",
      " 21  home_formation                3 non-null      Int64  \n",
      " 22  home_fouls                    3 non-null      float64\n",
      " 23  home_free_kicks               3 non-null      float64\n",
      " 24  home_goalkeeper_saves         3 non-null      float64\n",
      " 25  home_goals                    3 non-null      float64\n",
      " 26  home_inacc_shots              3 non-null      float64\n",
      " 27  home_mean_raiting             3 non-null      float64\n",
      " 28  home_offsides                 3 non-null      float64\n",
      " 29  home_passes                   3 non-null      float64\n",
      " 30  home_points                   3 non-null      float64\n",
      " 31  home_position                 3 non-null      float64\n",
      " 32  home_poss                     3 non-null      float64\n",
      " 33  home_shots                    3 non-null      float64\n",
      " 34  home_xG                       3 non-null      float64\n",
      " 35  result                        3 non-null      float64\n",
      " 36  round                         3 non-null      float64\n",
      " 37  season                        3 non-null      float64\n",
      " 38  result_from_team_perspective  3 non-null      float64\n",
      " 39  at_home                       3 non-null      int32  \n",
      " 40  coach_matches                 3 non-null      int64  \n",
      " 41  rivals_coach_matches          3 non-null      int64  \n",
      "dtypes: Int64(2), float64(37), int32(1), int64(2)\n",
      "memory usage: 1.0 KB\n",
      "None\n"
     ]
    }
   ],
   "source": [
    "for values in data.values():\n",
    "    print(values[1].info())\n",
    "    break"
   ]
  },
  {
   "cell_type": "code",
   "execution_count": null,
   "id": "c536d772",
   "metadata": {},
   "outputs": [],
   "source": [
    "class StatsDataset(Dataset):\n",
    "\n",
    "    def __init__(self, x, y, kfold=None, curr_fold=None, n_splits=None):\n",
    "        self.x = x\n",
    "        self.y = y\n",
    "        self.curr_fold = curr_fold\n",
    "        self.kfold = KFold(n_splits=n_splits, shuffle=False) if kfold is not None else None\n",
    "\n",
    "    def __getitem__(self, index):\n",
    "        x = self.x[index]\n",
    "        y = self.y[index]\n",
    "\n",
    "        static = torch.as_tensor(x[0].values, dtype=torch.float32)\n",
    "        home = torch.as_tensor(x[1].values, dtype=torch.float32)\n",
    "        away = torch.as_tensor(x[2].values, dtype=torch.float32)\n",
    "\n",
    "        target = torch.as_tensor(y, dtype=torch.long)\n",
    "        return static, home, away, target\n",
    "    \n",
    "    def __len__(self):\n",
    "        return len(self.x)\n",
    "    \n",
    "    def get_splits(self):\n",
    "        if self.kfold is None:\n",
    "            return None\n",
    "        \n",
    "        folds = list(self.kfold.split(self.x))\n",
    "        train_indices, val_indices = folds[self.curr_fold]\n",
    "\n",
    "        train_data = self._get_subset(train_indices)\n",
    "        val_data = self._get_subset(val_indices)\n",
    "\n",
    "        return train_data, val_data\n",
    "\n",
    "    def _get_subset(self, indices):\n",
    "        return Subset(self, indices)"
   ]
  },
  {
   "cell_type": "code",
   "execution_count": null,
   "id": "0be37fd4",
   "metadata": {},
   "outputs": [],
   "source": [
    "seasons = [key[2] for key in data.keys()]\n",
    "max_season = sorted(seasons, reverse=True)[0]\n",
    "\n",
    "train_seasons = np.arange(1, max_season, 1)\n",
    "test_seasons = np.random.choice(train_seasons, size=10, replace=False)\n",
    "train_seasons = np.setdiff1d(train_seasons, test_seasons)\n",
    "\n",
    "train_data = [value for key, value in data.items() if key[2] in train_seasons]\n",
    "x_test = [value for key, value in data.items() if key[2] in test_seasons]\n",
    "\n",
    "y_train = np.array([x[0].pop('result') for x in train_data])\n",
    "y_test = np.array([x[0].pop('result') for x in x_test])\n"
   ]
  },
  {
   "cell_type": "code",
   "execution_count": null,
   "id": "72ad0b29",
   "metadata": {},
   "outputs": [],
   "source": [
    "model = MatchPredictor(43, 16, 2, 8)\n",
    "criterion = nn.CrossEntropyLoss()\n",
    "optimizer = optim.Adam(model.parameters(), lr=0.001)"
   ]
  },
  {
   "cell_type": "code",
   "execution_count": null,
   "id": "dc111afe",
   "metadata": {},
   "outputs": [],
   "source": [
    "def collate_fn(batch):\n",
    "    statics, homes, aways, targets = zip(*batch)\n",
    "\n",
    "    away_lens = torch.tensor([a.size(0) for a in aways])\n",
    "    home_lens = torch.tensor([h.size(0) for h in homes])\n",
    "\n",
    "    home_padded = pad_sequence(homes, batch_first=True, padding_value=0.0)\n",
    "    away_padded = pad_sequence(aways, batch_first=True, padding_value=0.0)\n",
    "\n",
    "    home_packed = pack_padded_sequence(home_padded, home_lens, batch_first=True, enforce_sorted=False)\n",
    "    away_packed = pack_padded_sequence(away_padded, away_lens, batch_first=True, enforce_sorted=False)\n",
    "\n",
    "    statics = torch.stack(statics)\n",
    "    targets = torch.stack(targets)\n",
    "\n",
    "    return {\n",
    "        'statics' : statics,\n",
    "        'homes' : (home_packed, home_lens),\n",
    "        'aways' : (away_packed, away_lens),\n",
    "        'targets' : targets\n",
    "    }\n"
   ]
  },
  {
   "cell_type": "code",
   "execution_count": null,
   "id": "7f7ca487",
   "metadata": {},
   "outputs": [
    {
     "name": "stdout",
     "output_type": "stream",
     "text": [
      "123456\n"
     ]
    },
    {
     "ename": "TypeError",
     "evalue": "can't convert np.ndarray of type numpy.object_. The only supported types are: float64, float32, float16, complex64, complex128, int64, int32, int16, int8, uint64, uint32, uint16, uint8, and bool.",
     "output_type": "error",
     "traceback": [
      "\u001b[1;31m---------------------------------------------------------------------------\u001b[0m",
      "\u001b[1;31mTypeError\u001b[0m                                 Traceback (most recent call last)",
      "Cell \u001b[1;32mIn[22], line 16\u001b[0m\n\u001b[0;32m     14\u001b[0m val_loader \u001b[38;5;241m=\u001b[39m DataLoader(val_data, batch_size\u001b[38;5;241m=\u001b[39mbatch_size, num_workers\u001b[38;5;241m=\u001b[39m\u001b[38;5;241m5\u001b[39m, collate_fn\u001b[38;5;241m=\u001b[39mcollate_fn)\n\u001b[0;32m     15\u001b[0m \u001b[38;5;28mprint\u001b[39m(\u001b[38;5;124m'\u001b[39m\u001b[38;5;124m123456\u001b[39m\u001b[38;5;124m'\u001b[39m)\n\u001b[1;32m---> 16\u001b[0m \u001b[43m\u001b[49m\u001b[38;5;28;43;01mfor\u001b[39;49;00m\u001b[43m \u001b[49m\u001b[43mstep\u001b[49m\u001b[43m,\u001b[49m\u001b[43m \u001b[49m\u001b[43mbatch\u001b[49m\u001b[43m \u001b[49m\u001b[38;5;129;43;01min\u001b[39;49;00m\u001b[43m \u001b[49m\u001b[38;5;28;43menumerate\u001b[39;49m\u001b[43m(\u001b[49m\u001b[43mtrain_loader\u001b[49m\u001b[43m)\u001b[49m\u001b[43m:\u001b[49m\n\u001b[0;32m     17\u001b[0m \u001b[43m    \u001b[49m\u001b[38;5;28;43mprint\u001b[39;49m\u001b[43m(\u001b[49m\u001b[43mstep\u001b[49m\u001b[43m)\u001b[49m\n\u001b[0;32m     18\u001b[0m \u001b[43m    \u001b[49m\u001b[38;5;28;43mprint\u001b[39;49m\u001b[43m(\u001b[49m\u001b[43mbatch\u001b[49m\u001b[43m[\u001b[49m\u001b[38;5;124;43m'\u001b[39;49m\u001b[38;5;124;43mstatics\u001b[39;49m\u001b[38;5;124;43m'\u001b[39;49m\u001b[43m]\u001b[49m\u001b[43m,\u001b[49m\u001b[43m \u001b[49m\u001b[38;5;124;43m'\u001b[39;49m\u001b[38;5;130;43;01m\\n\u001b[39;49;00m\u001b[38;5;124;43m'\u001b[39;49m\u001b[43m)\u001b[49m\n",
      "File \u001b[1;32mc:\\Users\\dawid\\AppData\\Local\\Programs\\Python\\Python312\\Lib\\site-packages\\torch\\utils\\data\\dataloader.py:701\u001b[0m, in \u001b[0;36m_BaseDataLoaderIter.__next__\u001b[1;34m(self)\u001b[0m\n\u001b[0;32m    698\u001b[0m \u001b[38;5;28;01mif\u001b[39;00m \u001b[38;5;28mself\u001b[39m\u001b[38;5;241m.\u001b[39m_sampler_iter \u001b[38;5;129;01mis\u001b[39;00m \u001b[38;5;28;01mNone\u001b[39;00m:\n\u001b[0;32m    699\u001b[0m     \u001b[38;5;66;03m# TODO(https://github.com/pytorch/pytorch/issues/76750)\u001b[39;00m\n\u001b[0;32m    700\u001b[0m     \u001b[38;5;28mself\u001b[39m\u001b[38;5;241m.\u001b[39m_reset()  \u001b[38;5;66;03m# type: ignore[call-arg]\u001b[39;00m\n\u001b[1;32m--> 701\u001b[0m data \u001b[38;5;241m=\u001b[39m \u001b[38;5;28;43mself\u001b[39;49m\u001b[38;5;241;43m.\u001b[39;49m\u001b[43m_next_data\u001b[49m\u001b[43m(\u001b[49m\u001b[43m)\u001b[49m\n\u001b[0;32m    702\u001b[0m \u001b[38;5;28mself\u001b[39m\u001b[38;5;241m.\u001b[39m_num_yielded \u001b[38;5;241m+\u001b[39m\u001b[38;5;241m=\u001b[39m \u001b[38;5;241m1\u001b[39m\n\u001b[0;32m    703\u001b[0m \u001b[38;5;28;01mif\u001b[39;00m (\n\u001b[0;32m    704\u001b[0m     \u001b[38;5;28mself\u001b[39m\u001b[38;5;241m.\u001b[39m_dataset_kind \u001b[38;5;241m==\u001b[39m _DatasetKind\u001b[38;5;241m.\u001b[39mIterable\n\u001b[0;32m    705\u001b[0m     \u001b[38;5;129;01mand\u001b[39;00m \u001b[38;5;28mself\u001b[39m\u001b[38;5;241m.\u001b[39m_IterableDataset_len_called \u001b[38;5;129;01mis\u001b[39;00m \u001b[38;5;129;01mnot\u001b[39;00m \u001b[38;5;28;01mNone\u001b[39;00m\n\u001b[0;32m    706\u001b[0m     \u001b[38;5;129;01mand\u001b[39;00m \u001b[38;5;28mself\u001b[39m\u001b[38;5;241m.\u001b[39m_num_yielded \u001b[38;5;241m>\u001b[39m \u001b[38;5;28mself\u001b[39m\u001b[38;5;241m.\u001b[39m_IterableDataset_len_called\n\u001b[0;32m    707\u001b[0m ):\n",
      "File \u001b[1;32mc:\\Users\\dawid\\AppData\\Local\\Programs\\Python\\Python312\\Lib\\site-packages\\torch\\utils\\data\\dataloader.py:757\u001b[0m, in \u001b[0;36m_SingleProcessDataLoaderIter._next_data\u001b[1;34m(self)\u001b[0m\n\u001b[0;32m    755\u001b[0m \u001b[38;5;28;01mdef\u001b[39;00m \u001b[38;5;21m_next_data\u001b[39m(\u001b[38;5;28mself\u001b[39m):\n\u001b[0;32m    756\u001b[0m     index \u001b[38;5;241m=\u001b[39m \u001b[38;5;28mself\u001b[39m\u001b[38;5;241m.\u001b[39m_next_index()  \u001b[38;5;66;03m# may raise StopIteration\u001b[39;00m\n\u001b[1;32m--> 757\u001b[0m     data \u001b[38;5;241m=\u001b[39m \u001b[38;5;28;43mself\u001b[39;49m\u001b[38;5;241;43m.\u001b[39;49m\u001b[43m_dataset_fetcher\u001b[49m\u001b[38;5;241;43m.\u001b[39;49m\u001b[43mfetch\u001b[49m\u001b[43m(\u001b[49m\u001b[43mindex\u001b[49m\u001b[43m)\u001b[49m  \u001b[38;5;66;03m# may raise StopIteration\u001b[39;00m\n\u001b[0;32m    758\u001b[0m     \u001b[38;5;28;01mif\u001b[39;00m \u001b[38;5;28mself\u001b[39m\u001b[38;5;241m.\u001b[39m_pin_memory:\n\u001b[0;32m    759\u001b[0m         data \u001b[38;5;241m=\u001b[39m _utils\u001b[38;5;241m.\u001b[39mpin_memory\u001b[38;5;241m.\u001b[39mpin_memory(data, \u001b[38;5;28mself\u001b[39m\u001b[38;5;241m.\u001b[39m_pin_memory_device)\n",
      "File \u001b[1;32mc:\\Users\\dawid\\AppData\\Local\\Programs\\Python\\Python312\\Lib\\site-packages\\torch\\utils\\data\\_utils\\fetch.py:50\u001b[0m, in \u001b[0;36m_MapDatasetFetcher.fetch\u001b[1;34m(self, possibly_batched_index)\u001b[0m\n\u001b[0;32m     48\u001b[0m \u001b[38;5;28;01mif\u001b[39;00m \u001b[38;5;28mself\u001b[39m\u001b[38;5;241m.\u001b[39mauto_collation:\n\u001b[0;32m     49\u001b[0m     \u001b[38;5;28;01mif\u001b[39;00m \u001b[38;5;28mhasattr\u001b[39m(\u001b[38;5;28mself\u001b[39m\u001b[38;5;241m.\u001b[39mdataset, \u001b[38;5;124m\"\u001b[39m\u001b[38;5;124m__getitems__\u001b[39m\u001b[38;5;124m\"\u001b[39m) \u001b[38;5;129;01mand\u001b[39;00m \u001b[38;5;28mself\u001b[39m\u001b[38;5;241m.\u001b[39mdataset\u001b[38;5;241m.\u001b[39m__getitems__:\n\u001b[1;32m---> 50\u001b[0m         data \u001b[38;5;241m=\u001b[39m \u001b[38;5;28;43mself\u001b[39;49m\u001b[38;5;241;43m.\u001b[39;49m\u001b[43mdataset\u001b[49m\u001b[38;5;241;43m.\u001b[39;49m\u001b[43m__getitems__\u001b[49m\u001b[43m(\u001b[49m\u001b[43mpossibly_batched_index\u001b[49m\u001b[43m)\u001b[49m\n\u001b[0;32m     51\u001b[0m     \u001b[38;5;28;01melse\u001b[39;00m:\n\u001b[0;32m     52\u001b[0m         data \u001b[38;5;241m=\u001b[39m [\u001b[38;5;28mself\u001b[39m\u001b[38;5;241m.\u001b[39mdataset[idx] \u001b[38;5;28;01mfor\u001b[39;00m idx \u001b[38;5;129;01min\u001b[39;00m possibly_batched_index]\n",
      "File \u001b[1;32mc:\\Users\\dawid\\AppData\\Local\\Programs\\Python\\Python312\\Lib\\site-packages\\torch\\utils\\data\\dataset.py:420\u001b[0m, in \u001b[0;36mSubset.__getitems__\u001b[1;34m(self, indices)\u001b[0m\n\u001b[0;32m    418\u001b[0m     \u001b[38;5;28;01mreturn\u001b[39;00m \u001b[38;5;28mself\u001b[39m\u001b[38;5;241m.\u001b[39mdataset\u001b[38;5;241m.\u001b[39m__getitems__([\u001b[38;5;28mself\u001b[39m\u001b[38;5;241m.\u001b[39mindices[idx] \u001b[38;5;28;01mfor\u001b[39;00m idx \u001b[38;5;129;01min\u001b[39;00m indices])  \u001b[38;5;66;03m# type: ignore[attr-defined]\u001b[39;00m\n\u001b[0;32m    419\u001b[0m \u001b[38;5;28;01melse\u001b[39;00m:\n\u001b[1;32m--> 420\u001b[0m     \u001b[38;5;28;01mreturn\u001b[39;00m [\u001b[38;5;28;43mself\u001b[39;49m\u001b[38;5;241;43m.\u001b[39;49m\u001b[43mdataset\u001b[49m\u001b[43m[\u001b[49m\u001b[38;5;28;43mself\u001b[39;49m\u001b[38;5;241;43m.\u001b[39;49m\u001b[43mindices\u001b[49m\u001b[43m[\u001b[49m\u001b[43midx\u001b[49m\u001b[43m]\u001b[49m\u001b[43m]\u001b[49m \u001b[38;5;28;01mfor\u001b[39;00m idx \u001b[38;5;129;01min\u001b[39;00m indices]\n",
      "Cell \u001b[1;32mIn[18], line 14\u001b[0m, in \u001b[0;36mStatsDataset.__getitem__\u001b[1;34m(self, index)\u001b[0m\n\u001b[0;32m     11\u001b[0m y \u001b[38;5;241m=\u001b[39m \u001b[38;5;28mself\u001b[39m\u001b[38;5;241m.\u001b[39my[index]\n\u001b[0;32m     13\u001b[0m static \u001b[38;5;241m=\u001b[39m torch\u001b[38;5;241m.\u001b[39mas_tensor(x[\u001b[38;5;241m0\u001b[39m]\u001b[38;5;241m.\u001b[39mvalues, dtype\u001b[38;5;241m=\u001b[39mtorch\u001b[38;5;241m.\u001b[39mfloat32)\n\u001b[1;32m---> 14\u001b[0m home \u001b[38;5;241m=\u001b[39m \u001b[43mtorch\u001b[49m\u001b[38;5;241;43m.\u001b[39;49m\u001b[43mas_tensor\u001b[49m\u001b[43m(\u001b[49m\u001b[43mx\u001b[49m\u001b[43m[\u001b[49m\u001b[38;5;241;43m1\u001b[39;49m\u001b[43m]\u001b[49m\u001b[38;5;241;43m.\u001b[39;49m\u001b[43mvalues\u001b[49m\u001b[43m,\u001b[49m\u001b[43m \u001b[49m\u001b[43mdtype\u001b[49m\u001b[38;5;241;43m=\u001b[39;49m\u001b[43mtorch\u001b[49m\u001b[38;5;241;43m.\u001b[39;49m\u001b[43mfloat32\u001b[49m\u001b[43m)\u001b[49m\n\u001b[0;32m     15\u001b[0m away \u001b[38;5;241m=\u001b[39m torch\u001b[38;5;241m.\u001b[39mas_tensor(x[\u001b[38;5;241m2\u001b[39m]\u001b[38;5;241m.\u001b[39mvalues, dtype\u001b[38;5;241m=\u001b[39mtorch\u001b[38;5;241m.\u001b[39mfloat32)\n\u001b[0;32m     17\u001b[0m target \u001b[38;5;241m=\u001b[39m torch\u001b[38;5;241m.\u001b[39mas_tensor(y, dtype\u001b[38;5;241m=\u001b[39mtorch\u001b[38;5;241m.\u001b[39mlong)\n",
      "\u001b[1;31mTypeError\u001b[0m: can't convert np.ndarray of type numpy.object_. The only supported types are: float64, float32, float16, complex64, complex128, int64, int32, int16, int8, uint64, uint32, uint16, uint8, and bool."
     ]
    }
   ],
   "source": [
    "n_splits = 5\n",
    "batch_size = 64\n",
    "num_epochs = 1\n",
    "\n",
    "test_dataset = StatsDataset(x_test, y_test)\n",
    "test_loader = DataLoader(test_dataset, batch_size=batch_size, num_workers=5, collate_fn=collate_fn)\n",
    "\n",
    "for epoch in range(num_epochs):\n",
    "    for fold in range(n_splits):\n",
    "        train_dataset = StatsDataset(train_data, y_train, kfold=True, curr_fold=fold, n_splits=n_splits)\n",
    "        train_data, val_data = train_dataset.get_splits()\n",
    "\n",
    "        train_loader = DataLoader(train_data, batch_size=batch_size, shuffle=False, num_workers=0, collate_fn=collate_fn)\n",
    "        val_loader = DataLoader(val_data, batch_size=batch_size, num_workers=5, collate_fn=collate_fn)\n",
    "        print('123456')\n",
    "        for step, batch in enumerate(train_loader):\n",
    "            print(step)\n",
    "            print(batch['statics'], '\\n')\n",
    "            print(batch['homes'], '\\n')\n",
    "            print(batch['aways'], '\\n')\n",
    "            break"
   ]
  }
 ],
 "metadata": {
  "kernelspec": {
   "display_name": "Python 3",
   "language": "python",
   "name": "python3"
  },
  "language_info": {
   "codemirror_mode": {
    "name": "ipython",
    "version": 3
   },
   "file_extension": ".py",
   "mimetype": "text/x-python",
   "name": "python",
   "nbconvert_exporter": "python",
   "pygments_lexer": "ipython3",
   "version": "3.12.0"
  }
 },
 "nbformat": 4,
 "nbformat_minor": 5
}
