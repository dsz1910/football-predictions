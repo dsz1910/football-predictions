{
 "cells": [
  {
   "cell_type": "code",
   "execution_count": null,
   "id": "62bcb5b8",
   "metadata": {},
   "outputs": [],
   "source": [
    "import pickle\n",
    "import numpy as np\n",
    "import pandas as pd\n",
    "import torch\n",
    "from torch import nn\n",
    "from torch.functional import F\n",
    "from torch.utils.data import Dataset, DataLoader, Subset\n",
    "from torch.nn.utils.rnn import pad_sequence, pack_padded_sequence\n",
    "from torch import optim\n",
    "from sklearn.model_selection import KFold\n",
    "from sklearn.metrics import classification_report\n",
    "import sklearn\n",
    "from sklearn.preprocessing import MinMaxScaler\n",
    "from numpy import random\n",
    "from model_architecture import MatchPredictor\n",
    "pd.options.display.max_rows = 50"
   ]
  },
  {
   "cell_type": "code",
   "execution_count": null,
   "id": "9756ba23",
   "metadata": {},
   "outputs": [],
   "source": [
    "device = torch.device('cuda' if torch.cuda.is_available else 'cpu')\n",
    "device"
   ]
  },
  {
   "cell_type": "code",
   "execution_count": null,
   "id": "6d106e12",
   "metadata": {},
   "outputs": [],
   "source": [
    "with open('time_series_dataset.pkl', 'rb') as file:\n",
    "    data = pickle.load(file)"
   ]
  },
  {
   "cell_type": "code",
   "execution_count": null,
   "id": "c536d772",
   "metadata": {},
   "outputs": [],
   "source": [
    "class StatsDataset(Dataset):\n",
    "\n",
    "    def __init__(self, x, y, kfold=None, curr_fold=None, n_splits=None):\n",
    "        self.x = x\n",
    "        self.y = y\n",
    "        self.curr_fold = curr_fold\n",
    "        self.kfold = KFold(n_splits=n_splits, shuffle=False) if kfold is not None else None\n",
    "\n",
    "    def __getitem__(self, index):\n",
    "        static, home, away = self.x[index]\n",
    "        y = self.y[index]\n",
    "\n",
    "        static = torch.as_tensor(static.values, dtype=torch.float32)\n",
    "        home = torch.as_tensor(home.values, dtype=torch.float32)\n",
    "        away = torch.as_tensor(away.values, dtype=torch.float32)\n",
    "\n",
    "        target = torch.as_tensor(y, dtype=torch.long)\n",
    "        return static, home, away, target\n",
    "    \n",
    "    def __len__(self):\n",
    "        return len(self.x)\n",
    "    \n",
    "    def get_splits(self):\n",
    "        if self.kfold is None:\n",
    "            return None\n",
    "\n",
    "        folds = list(self.kfold.split(self.x))\n",
    "        train_indices, val_indices = folds[self.curr_fold]\n",
    "\n",
    "        train_data = self._get_subset(train_indices)\n",
    "        val_data = self._get_subset(val_indices)\n",
    "\n",
    "        return train_data, val_data\n",
    "\n",
    "    def _get_subset(self, indices):\n",
    "        return Subset(self, indices)"
   ]
  },
  {
   "cell_type": "code",
   "execution_count": null,
   "id": "0be37fd4",
   "metadata": {},
   "outputs": [],
   "source": [
    "seasons = [key[2] for key in data.keys()]\n",
    "max_season = sorted(seasons, reverse=True)[0]\n",
    "\n",
    "train_seasons = np.arange(1, max_season, 1)\n",
    "test_seasons = np.random.choice(train_seasons, size=10, replace=False)\n",
    "train_seasons = np.setdiff1d(train_seasons, test_seasons)\n",
    "\n",
    "train_data = [value for key, value in data.items() if key[2] in train_seasons]\n",
    "test_data = [value for key, value in data.items() if key[2] in test_seasons]\n",
    "\n",
    "y_train = np.array([x[0].pop('result') for x in train_data])\n",
    "y_test = np.array([x[0].pop('result') for x in test_data])\n"
   ]
  },
  {
   "cell_type": "code",
   "execution_count": null,
   "id": "5a840409",
   "metadata": {},
   "outputs": [],
   "source": [
    "for values in data.values():\n",
    "    values[1].drop(['away_name', 'home_name', 'match_date'], inplace=True, axis=1)\n",
    "    values[2].drop(['away_name', 'home_name', 'match_date'], inplace=True, axis=1)"
   ]
  },
  {
   "cell_type": "code",
   "execution_count": null,
   "id": "a6732ab8",
   "metadata": {},
   "outputs": [],
   "source": [
    "statics_lst, ts_homes_lst, ts_aways_lst = zip(*train_data)\n",
    "\n",
    "home_dfs = pd.concat(ts_homes_lst)\n",
    "away_dfs = pd.concat(ts_aways_lst)\n",
    "static_dfs = pd.concat(statics_lst)\n",
    "\n",
    "home_scaler = MinMaxScaler()\n",
    "away_scaler  = MinMaxScaler()\n",
    "static_scaler = MinMaxScaler()\n",
    "\n",
    "home_scaler.fit(home_dfs.values)\n",
    "away_scaler.fit(away_dfs.values)\n",
    "static_scaler.fit(static_dfs.values)\n",
    "\n",
    "for i, el in enumerate(train_data):\n",
    "    train_data[i][0] = pd.DataFrame(static_scaler.transform(el[0].values), index=el[0].index, columns=el[0].columns)\n",
    "    train_data[i][1] = pd.DataFrame(home_scaler.transform(el[1].values), index=el[1].index, columns=el[1].columns)\n",
    "    train_data[i][2] = pd.DataFrame(away_scaler.transform(el[2].values), index=el[2].index, columns=el[2].columns)\n",
    "\n",
    "for i, el in enumerate(test_data):\n",
    "    test_data[i][0] = pd.DataFrame(static_scaler.transform(el[0].values), index=el[0].index, columns=el[0].columns)\n",
    "    test_data[i][1] = pd.DataFrame(home_scaler.transform(el[1].values), index=el[1].index, columns=el[1].columns)\n",
    "    test_data[i][2] = pd.DataFrame(away_scaler.transform(el[2].values), index=el[2].index, columns=el[2].columns)"
   ]
  },
  {
   "cell_type": "code",
   "execution_count": null,
   "id": "72ad0b29",
   "metadata": {},
   "outputs": [],
   "source": [
    "model = MatchPredictor(40, 32, 2, 8, device)\n",
    "criterion = nn.CrossEntropyLoss()\n",
    "optimizer = optim.Adam(model.parameters(), lr=0.001)\n",
    "model.to(device)"
   ]
  },
  {
   "cell_type": "code",
   "execution_count": null,
   "id": "dc111afe",
   "metadata": {},
   "outputs": [],
   "source": [
    "def collate_fn(batch):\n",
    "    statics, homes, aways, targets = zip(*batch)\n",
    "\n",
    "    away_lens = torch.tensor([a.size(0) for a in aways])\n",
    "    home_lens = torch.tensor([h.size(0) for h in homes])\n",
    "\n",
    "    home_padded = pad_sequence(homes, batch_first=True, padding_value=0.0)\n",
    "    away_padded = pad_sequence(aways, batch_first=True, padding_value=0.0)\n",
    "\n",
    "    home_packed = pack_padded_sequence(home_padded, home_lens, batch_first=True, enforce_sorted=False)\n",
    "    away_packed = pack_padded_sequence(away_padded, away_lens, batch_first=True, enforce_sorted=False)\n",
    "\n",
    "    statics = torch.stack(statics)\n",
    "    statics = statics.squeeze(1)\n",
    "    targets = torch.stack(targets)\n",
    "\n",
    "    return {\n",
    "        'statics' : statics,\n",
    "        'homes' : home_packed,\n",
    "        'aways' : away_packed,\n",
    "        'targets' : targets\n",
    "    }\n"
   ]
  },
  {
   "cell_type": "code",
   "execution_count": null,
   "id": "7f7ca487",
   "metadata": {},
   "outputs": [],
   "source": [
    "n_splits = 5\n",
    "batch_size = 64\n",
    "num_epochs = 1\n",
    "\n",
    "test_dataset = StatsDataset(test_data, y_test)\n",
    "test_loader = DataLoader(test_dataset, batch_size=batch_size, num_workers=0, collate_fn=collate_fn)\n",
    "\n",
    "for epoch in range(num_epochs):\n",
    "    for fold in range(n_splits):\n",
    "        train_dataset = StatsDataset(train_data, y_train, kfold=True, curr_fold=fold, n_splits=n_splits)\n",
    "        train_split, val_split = train_dataset.get_splits()\n",
    "\n",
    "        train_loader = DataLoader(train_split, batch_size=batch_size, shuffle=False, num_workers=0, collate_fn=collate_fn)\n",
    "        val_loader = DataLoader(val_split, batch_size=batch_size, num_workers=0, collate_fn=collate_fn)\n",
    "\n",
    "        for step, batch in enumerate(train_loader):\n",
    "            statics, homes, aways = batch['statics'].to(device), batch['homes'].to(device), batch['aways'].to(device)\n",
    "            logits = model(statics, homes, aways)\n",
    "            pred = F.softmax(logits, dim=1)\n",
    "            prob, pred = pred.max(dim=1)\n",
    "            print(classification_report(batch['targets'], pred.cpu().detach()))"
   ]
  },
  {
   "cell_type": "code",
   "execution_count": null,
   "id": "9e77b746",
   "metadata": {},
   "outputs": [],
   "source": []
  }
 ],
 "metadata": {
  "kernelspec": {
   "display_name": "Python 3",
   "language": "python",
   "name": "python3"
  },
  "language_info": {
   "codemirror_mode": {
    "name": "ipython",
    "version": 3
   },
   "file_extension": ".py",
   "mimetype": "text/x-python",
   "name": "python",
   "nbconvert_exporter": "python",
   "pygments_lexer": "ipython3",
   "version": "3.12.0"
  }
 },
 "nbformat": 4,
 "nbformat_minor": 5
}
