{
 "cells": [
  {
   "cell_type": "code",
   "execution_count": 1,
   "id": "62bcb5b8",
   "metadata": {},
   "outputs": [],
   "source": [
    "import pickle\n",
    "import numpy as np\n",
    "import pandas as pd\n",
    "import torch\n",
    "from torch import nn\n",
    "from torch.functional import F\n",
    "from torch.utils.data import Dataset, DataLoader, Subset\n",
    "from torch.nn.utils.rnn import pad_sequence, pack_padded_sequence\n",
    "from torch import optim\n",
    "from sklearn.model_selection import GroupKFold\n",
    "from sklearn.metrics import classification_report\n",
    "import sklearn\n",
    "from sklearn.preprocessing import MinMaxScaler\n",
    "from numpy import random\n",
    "from model_architecture import MatchPredictor\n",
    "from gru_model_architecture import GRUMatchPredictor\n",
    "import itertools\n",
    "from sklearn.metrics import accuracy_score\n",
    "pd.options.display.max_rows = 50"
   ]
  },
  {
   "cell_type": "code",
   "execution_count": 2,
   "id": "9756ba23",
   "metadata": {},
   "outputs": [
    {
     "data": {
      "text/plain": [
       "device(type='cuda')"
      ]
     },
     "execution_count": 2,
     "metadata": {},
     "output_type": "execute_result"
    }
   ],
   "source": [
    "device = torch.device('cuda' if torch.cuda.is_available else 'cpu')\n",
    "device"
   ]
  },
  {
   "cell_type": "code",
   "execution_count": 3,
   "id": "6d106e12",
   "metadata": {},
   "outputs": [],
   "source": [
    "with open('time_series_dataset.pkl', 'rb') as file:\n",
    "    data = pickle.load(file)"
   ]
  },
  {
   "cell_type": "code",
   "execution_count": 4,
   "id": "c536d772",
   "metadata": {},
   "outputs": [],
   "source": [
    "class StatsDataset(Dataset):\n",
    "\n",
    "    def __init__(self, x, y, cv=False, n_splits=None):\n",
    "        self.x = x\n",
    "        self.y = y\n",
    "        self._cv = cv\n",
    "        self._n_splits = n_splits\n",
    "        if self._cv:\n",
    "            self.folds = self._get_folds()\n",
    "\n",
    "    def __getitem__(self, index):\n",
    "        static_df, home_ts, away_ts = self.x[index]\n",
    "        y = self.y[index]\n",
    "\n",
    "        home = home_ts.drop(['season'], axis=1)\n",
    "        away = away_ts.drop(['season'], axis=1)\n",
    "        cols = ['goals_scored_ratio', 'goals_conceded_ratio', 'raiting_ratio', 'xG_ratio']\n",
    "        static = static_df[static_df.columns.difference(cols)]\n",
    "        \n",
    "        static = torch.as_tensor(static.values, dtype=torch.float32)\n",
    "        home = torch.as_tensor(home.values, dtype=torch.float32)\n",
    "        away = torch.as_tensor(away.values, dtype=torch.float32)\n",
    "\n",
    "        target = torch.as_tensor(y, dtype=torch.long)\n",
    "        return static, home, away, target\n",
    "    \n",
    "    def __len__(self):\n",
    "        return len(self.x)\n",
    "    \n",
    "    def _get_folds(self):\n",
    "        folds = [[] for _ in range(self._n_splits)]\n",
    "        for i, data in enumerate(self.x):\n",
    "            folds[data[1]['season'].head(1).values[0].astype('int') % self._n_splits].append(i)\n",
    "        return folds\n",
    "\n",
    "    def get_subsets(self, val_idx):\n",
    "        assert self._cv, (\n",
    "        'Cross validation is not possible when _cv attribute is set to False (that means it is a testing dataset).')\n",
    "\n",
    "        train_indices = list(itertools.chain.from_iterable(self.folds[:val_idx] + self.folds[val_idx+1:]))\n",
    "        val_indices = self.folds[val_idx]\n",
    "        train_data = Subset(self, train_indices)\n",
    "        val_data = Subset(self, val_indices)\n",
    "        return train_data, val_data"
   ]
  },
  {
   "cell_type": "code",
   "execution_count": 5,
   "id": "0be37fd4",
   "metadata": {},
   "outputs": [],
   "source": [
    "seasons = [key[2] for key in data.keys()]\n",
    "max_season = sorted(seasons, reverse=True)[0]\n",
    "\n",
    "train_seasons = np.arange(1, max_season, 1)\n",
    "test_seasons = np.random.choice(train_seasons, size=10, replace=False)\n",
    "train_seasons = np.setdiff1d(train_seasons, test_seasons)\n",
    "\n",
    "train_data = [value for key, value in data.items() if key[2] in train_seasons]\n",
    "test_data = [value for key, value in data.items() if key[2] in test_seasons]\n",
    "\n",
    "y_train = np.array([x[0].pop('result') for x in train_data])\n",
    "y_test = np.array([x[0].pop('result') for x in test_data])\n"
   ]
  },
  {
   "cell_type": "code",
   "execution_count": 6,
   "id": "5a840409",
   "metadata": {},
   "outputs": [],
   "source": [
    "for values in data.values():\n",
    "    values[1].drop(['away_name', 'home_name', 'match_date'], inplace=True, axis=1)\n",
    "    values[2].drop(['away_name', 'home_name', 'match_date'], inplace=True, axis=1)\n",
    "\n",
    "    values[1].fillna({'round' : 55, 'coach_matches' : 0}, inplace=True)\n",
    "    values[2].fillna({'round' : 55, 'coach_matches' : 0}, inplace=True)\n",
    "\n",
    "    '''values[1] = values[1][['result_from_team_perspective', 'season']]\n",
    "    values[2] = values[2][['result_from_team_perspective', 'season']]'''"
   ]
  },
  {
   "cell_type": "code",
   "execution_count": 7,
   "id": "a6732ab8",
   "metadata": {},
   "outputs": [],
   "source": [
    "statics_lst, ts_homes_lst, ts_aways_lst = zip(*train_data)\n",
    "\n",
    "home_dfs = pd.concat(ts_homes_lst)\n",
    "home_dfs.drop('season', axis=1, inplace=True)\n",
    "away_dfs = pd.concat(ts_aways_lst)\n",
    "away_dfs.drop('season', axis=1, inplace=True)\n",
    "static_dfs = pd.concat(statics_lst)\n",
    "\n",
    "home_scaler = MinMaxScaler()\n",
    "away_scaler  = MinMaxScaler()\n",
    "static_scaler = MinMaxScaler()\n",
    "\n",
    "home_scaler.fit(home_dfs.values)\n",
    "away_scaler.fit(away_dfs.values)\n",
    "static_scaler.fit(static_dfs.values)\n",
    "\n",
    "for i, el in enumerate(train_data):\n",
    "    home_seasons = el[1].pop('season')\n",
    "    away_seasons = el[2].pop('season')\n",
    "\n",
    "    train_data[i][0] = pd.DataFrame(static_scaler.transform(el[0].values), index=el[0].index, columns=el[0].columns)\n",
    "\n",
    "    train_data[i][1] = pd.DataFrame(\n",
    "        home_scaler.transform(el[1].values), index=el[1].index, columns=el[1].columns)\n",
    "    \n",
    "    train_data[i][2] = pd.DataFrame(\n",
    "        away_scaler.transform(el[2].values), index=el[2].index, columns=el[2].columns)\n",
    "    \n",
    "    train_data[i][1]['season'] = home_seasons\n",
    "    train_data[i][2]['season'] = away_seasons\n",
    "\n",
    "for i, el in enumerate(test_data):\n",
    "    home_seasons = el[1].pop('season')\n",
    "    away_seasons = el[2].pop('season')\n",
    "\n",
    "    test_data[i][0] = pd.DataFrame(static_scaler.transform(el[0].values), index=el[0].index, columns=el[0].columns)\n",
    "    test_data[i][1] = pd.DataFrame(\n",
    "        home_scaler.transform(el[1].values), index=el[1].index, columns=el[1].columns)\n",
    "    \n",
    "    test_data[i][2] = pd.DataFrame(\n",
    "        away_scaler.transform(el[2].values), index=el[2].index, columns=el[2].columns)\n",
    "    \n",
    "    test_data[i][1]['season'] = home_seasons\n",
    "    test_data[i][2]['season'] = away_seasons"
   ]
  },
  {
   "cell_type": "code",
   "execution_count": 8,
   "id": "72ad0b29",
   "metadata": {},
   "outputs": [
    {
     "name": "stderr",
     "output_type": "stream",
     "text": [
      "c:\\Users\\dawid\\AppData\\Local\\Programs\\Python\\Python312\\Lib\\site-packages\\torch\\nn\\modules\\rnn.py:123: UserWarning: dropout option adds dropout after all but last recurrent layer, so non-zero dropout expects num_layers greater than 1, but got dropout=0.2 and num_layers=1\n",
      "  warnings.warn(\n"
     ]
    },
    {
     "data": {
      "text/plain": [
       "GRUMatchPredictor(\n",
       "  (home_gru): GRU(40, 8, batch_first=True, dropout=0.2)\n",
       "  (away_gru): GRU(40, 8, batch_first=True, dropout=0.2)\n",
       "  (fc): Sequential(\n",
       "    (0): Linear(in_features=20, out_features=32, bias=True)\n",
       "    (1): ReLU()\n",
       "    (2): Dropout(p=0.5, inplace=False)\n",
       "    (3): Linear(in_features=32, out_features=16, bias=True)\n",
       "    (4): ReLU()\n",
       "    (5): Dropout(p=0.5, inplace=False)\n",
       "    (6): Linear(in_features=16, out_features=3, bias=True)\n",
       "  )\n",
       ")"
      ]
     },
     "execution_count": 8,
     "metadata": {},
     "output_type": "execute_result"
    }
   ],
   "source": [
    "#model = MatchPredictor(40, 8, 1, 4, device)\n",
    "model = GRUMatchPredictor(40, 8, 1, 4, device)\n",
    "criterion = nn.CrossEntropyLoss()\n",
    "optimizer = optim.Adam(model.parameters(), lr=0.001)\n",
    "model.to(device)"
   ]
  },
  {
   "cell_type": "code",
   "execution_count": 9,
   "id": "dc111afe",
   "metadata": {},
   "outputs": [],
   "source": [
    "def collate_fn(batch):\n",
    "    statics, homes, aways, targets = zip(*batch)\n",
    "\n",
    "    away_lens = torch.as_tensor([a.size(0) for a in aways])\n",
    "    home_lens = torch.as_tensor([h.size(0) for h in homes])\n",
    "\n",
    "    home_padded = pad_sequence(homes, batch_first=True, padding_value=0.0)\n",
    "    away_padded = pad_sequence(aways, batch_first=True, padding_value=0.0)\n",
    "\n",
    "    home_packed = pack_padded_sequence(home_padded, home_lens, batch_first=True, enforce_sorted=False)\n",
    "    away_packed = pack_padded_sequence(away_padded, away_lens, batch_first=True, enforce_sorted=False)\n",
    "\n",
    "    statics = torch.stack(statics)\n",
    "    statics = statics.squeeze(1)\n",
    "    targets = torch.stack(targets)\n",
    "\n",
    "    return {\n",
    "        'statics' : statics,\n",
    "        'homes' : home_packed,\n",
    "        'aways' : away_packed,\n",
    "        'targets' : targets\n",
    "    }\n"
   ]
  },
  {
   "cell_type": "code",
   "execution_count": 10,
   "id": "7f7ca487",
   "metadata": {},
   "outputs": [
    {
     "name": "stdout",
     "output_type": "stream",
     "text": [
      "Epoch: 1/4 - train loss: 20.874109897128534 - validation loss: 20.201545101986415\n",
      "Epoch: 2/4 - train loss: 20.62457866252745 - validation loss: 19.986841885057537\n",
      "Epoch: 3/4 - train loss: 20.582863001378712 - validation loss: 19.91410976309049\n",
      "Epoch: 4/4 - train loss: 20.509870352561236 - validation loss: 19.80500563422057\n"
     ]
    }
   ],
   "source": [
    "n_splits = 5\n",
    "batch_size = 64\n",
    "num_epochs = 4\n",
    "\n",
    "train_dataset = StatsDataset(train_data, y_train, cv=True, n_splits=n_splits)\n",
    "test_dataset = StatsDataset(test_data, y_test)\n",
    "test_loader = DataLoader(\n",
    "    test_dataset, batch_size=batch_size, num_workers=0, collate_fn=collate_fn)\n",
    "\n",
    "train_losses = []\n",
    "val_losses = []\n",
    "\n",
    "for epoch in range(num_epochs):\n",
    "    for val_idx in range(n_splits):\n",
    "        train_fold, val_fold = train_dataset.get_subsets(val_idx)\n",
    "\n",
    "        train_loader = DataLoader(\n",
    "            train_fold, batch_size=batch_size, shuffle=False, num_workers=0, collate_fn=collate_fn)\n",
    "        \n",
    "        val_loader = DataLoader(\n",
    "            val_fold, batch_size=batch_size, num_workers=0, collate_fn=collate_fn)\n",
    "\n",
    "        model.train()\n",
    "        running_loss = 0.0\n",
    "        for batch in train_loader:\n",
    "            optimizer.zero_grad()\n",
    "            statics, homes, aways = batch['statics'].to(device), batch['homes'].to(device), batch['aways'].to(device)\n",
    "            targets = batch['targets'].squeeze(1).to(device)\n",
    "\n",
    "            logits = model(statics, homes, aways)\n",
    "            loss = criterion(logits, targets)\n",
    "            running_loss += loss.item() * homes.data.size(0)\n",
    "\n",
    "            loss.backward()\n",
    "            optimizer.step()\n",
    "\n",
    "        total_train_loss = running_loss / len(train_loader.dataset)\n",
    "        train_losses.append(total_train_loss)\n",
    "\n",
    "        model.eval()\n",
    "        running_loss = 0.0\n",
    "        with torch.no_grad():\n",
    "            for batch in val_loader:\n",
    "                statics, homes, aways = batch['statics'].to(device), batch['homes'].to(device), batch['aways'].to(device)\n",
    "                targets = batch['targets'].squeeze(1).to(device)\n",
    "\n",
    "                logits = model(statics, homes, aways)\n",
    "                loss = criterion(logits, targets)\n",
    "                running_loss += loss.item() * homes.data.size(0)\n",
    "\n",
    "            total_val_loss = running_loss / len(val_loader.dataset)\n",
    "            val_losses.append(total_val_loss)\n",
    "\n",
    "            pred = F.softmax(logits, dim=1).argmax(dim=1)\n",
    "\n",
    "    print(f'Epoch: {epoch+1}/{num_epochs} - train loss: {train_losses[-1]} - validation loss: {val_losses[-1]}')\n"
   ]
  },
  {
   "cell_type": "code",
   "execution_count": 11,
   "id": "003baed4",
   "metadata": {},
   "outputs": [
    {
     "name": "stdout",
     "output_type": "stream",
     "text": [
      "              precision    recall  f1-score   support\n",
      "\n",
      "           0       0.00      0.00      0.00       701\n",
      "           1       0.50      0.83      0.63      1170\n",
      "           2       0.48      0.45      0.47       825\n",
      "\n",
      "    accuracy                           0.50      2696\n",
      "   macro avg       0.33      0.43      0.36      2696\n",
      "weighted avg       0.37      0.50      0.42      2696\n",
      "\n"
     ]
    },
    {
     "name": "stderr",
     "output_type": "stream",
     "text": [
      "c:\\Users\\dawid\\AppData\\Local\\Programs\\Python\\Python312\\Lib\\site-packages\\sklearn\\metrics\\_classification.py:1565: UndefinedMetricWarning: Precision is ill-defined and being set to 0.0 in labels with no predicted samples. Use `zero_division` parameter to control this behavior.\n",
      "  _warn_prf(average, modifier, f\"{metric.capitalize()} is\", len(result))\n",
      "c:\\Users\\dawid\\AppData\\Local\\Programs\\Python\\Python312\\Lib\\site-packages\\sklearn\\metrics\\_classification.py:1565: UndefinedMetricWarning: Precision is ill-defined and being set to 0.0 in labels with no predicted samples. Use `zero_division` parameter to control this behavior.\n",
      "  _warn_prf(average, modifier, f\"{metric.capitalize()} is\", len(result))\n",
      "c:\\Users\\dawid\\AppData\\Local\\Programs\\Python\\Python312\\Lib\\site-packages\\sklearn\\metrics\\_classification.py:1565: UndefinedMetricWarning: Precision is ill-defined and being set to 0.0 in labels with no predicted samples. Use `zero_division` parameter to control this behavior.\n",
      "  _warn_prf(average, modifier, f\"{metric.capitalize()} is\", len(result))\n"
     ]
    }
   ],
   "source": [
    "test_dataset = StatsDataset(test_data, y_test)\n",
    "test_loader = DataLoader(\n",
    "    test_dataset, batch_size=20000, num_workers=0, collate_fn=collate_fn)\n",
    "\n",
    "model.eval()\n",
    "with torch.no_grad():\n",
    "    for batch in test_loader:\n",
    "        statics, homes, aways = batch['statics'].to(device), batch['homes'].to(device), batch['aways'].to(device)\n",
    "        targets = batch['targets'].squeeze(1).to(device)\n",
    "\n",
    "        logits = model(statics, homes, aways)\n",
    "        pred = F.softmax(logits, dim=1).argmax(dim=1)\n",
    "        print(classification_report(targets.cpu(), pred.cpu()))\n",
    "        \n",
    "        score = accuracy_score(targets.cpu(), pred.cpu())\n",
    "        "
   ]
  },
  {
   "cell_type": "code",
   "execution_count": 12,
   "id": "34ed2238",
   "metadata": {},
   "outputs": [
    {
     "name": "stdout",
     "output_type": "stream",
     "text": [
      "              precision    recall  f1-score   support\n",
      "\n",
      "         0.0       0.00      0.00      0.00      4440\n",
      "         1.0       0.50      0.82      0.62      7532\n",
      "         2.0       0.46      0.42      0.44      5258\n",
      "\n",
      "    accuracy                           0.48     17230\n",
      "   macro avg       0.32      0.41      0.35     17230\n",
      "weighted avg       0.36      0.48      0.40     17230\n",
      "\n"
     ]
    },
    {
     "name": "stderr",
     "output_type": "stream",
     "text": [
      "c:\\Users\\dawid\\AppData\\Local\\Programs\\Python\\Python312\\Lib\\site-packages\\sklearn\\metrics\\_classification.py:1565: UndefinedMetricWarning: Precision is ill-defined and being set to 0.0 in labels with no predicted samples. Use `zero_division` parameter to control this behavior.\n",
      "  _warn_prf(average, modifier, f\"{metric.capitalize()} is\", len(result))\n",
      "c:\\Users\\dawid\\AppData\\Local\\Programs\\Python\\Python312\\Lib\\site-packages\\sklearn\\metrics\\_classification.py:1565: UndefinedMetricWarning: Precision is ill-defined and being set to 0.0 in labels with no predicted samples. Use `zero_division` parameter to control this behavior.\n",
      "  _warn_prf(average, modifier, f\"{metric.capitalize()} is\", len(result))\n",
      "c:\\Users\\dawid\\AppData\\Local\\Programs\\Python\\Python312\\Lib\\site-packages\\sklearn\\metrics\\_classification.py:1565: UndefinedMetricWarning: Precision is ill-defined and being set to 0.0 in labels with no predicted samples. Use `zero_division` parameter to control this behavior.\n",
      "  _warn_prf(average, modifier, f\"{metric.capitalize()} is\", len(result))\n"
     ]
    }
   ],
   "source": [
    "rrr = StatsDataset(train_data, y_train)\n",
    "rrr_loader = DataLoader(\n",
    "    rrr, batch_size=20000, num_workers=0, collate_fn=collate_fn)\n",
    "\n",
    "model.eval()\n",
    "with torch.no_grad():\n",
    "    for batch in rrr_loader:\n",
    "        statics, homes, aways = batch['statics'].to(device), batch['homes'].to(device), batch['aways'].to(device)\n",
    "        targets = batch['targets'].squeeze(1).to(device)\n",
    "\n",
    "        logits = model(statics, homes, aways)\n",
    "        pred = F.softmax(logits, dim=1).argmax(dim=1)\n",
    "        print(classification_report(y_train, pred.cpu()))\n",
    "        \n",
    "        "
   ]
  },
  {
   "cell_type": "code",
   "execution_count": null,
   "id": "9a5d4da8",
   "metadata": {},
   "outputs": [],
   "source": [
    "# save GRU model\n",
    "#torch.save(model.state_dict(), f'gru_model_{score}.pkl')"
   ]
  },
  {
   "cell_type": "code",
   "execution_count": null,
   "id": "779abf6e",
   "metadata": {},
   "outputs": [],
   "source": []
  }
 ],
 "metadata": {
  "kernelspec": {
   "display_name": "Python 3",
   "language": "python",
   "name": "python3"
  },
  "language_info": {
   "codemirror_mode": {
    "name": "ipython",
    "version": 3
   },
   "file_extension": ".py",
   "mimetype": "text/x-python",
   "name": "python",
   "nbconvert_exporter": "python",
   "pygments_lexer": "ipython3",
   "version": "3.12.0"
  }
 },
 "nbformat": 4,
 "nbformat_minor": 5
}
