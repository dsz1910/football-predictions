{
 "cells": [
  {
   "cell_type": "code",
   "execution_count": 4,
   "id": "6dcf2b5f",
   "metadata": {},
   "outputs": [],
   "source": [
    "import pandas as pd\n",
    "import numpy as np"
   ]
  },
  {
   "cell_type": "code",
   "execution_count": 25,
   "id": "147439a0",
   "metadata": {},
   "outputs": [],
   "source": [
    "data = pd.read_csv('stats.csv')\n",
    "target = data['result']"
   ]
  },
  {
   "cell_type": "code",
   "execution_count": 26,
   "id": "a56127af",
   "metadata": {},
   "outputs": [],
   "source": [
    "sts = pd.DataFrame(data[['sts_home', 'sts_draw', 'sts_away']])\n",
    "fortuna = pd.DataFrame(data[['fortuna_home', 'fortuna_draw', 'fortuna_away']])\n",
    "superbet = pd.DataFrame(data[['superbet_home', 'superbet_draw', 'superbet_away']])"
   ]
  },
  {
   "cell_type": "code",
   "execution_count": null,
   "id": "faa5f1cf",
   "metadata": {},
   "outputs": [],
   "source": [
    "sts['bookie_type'] = sts.idxmin(axis=1)\n",
    "sts['bookie_type'] = sts['bookie_type'].replace({'sts_home' : 1, 'sts_draw' : 0, 'sts_away' : 2})\n",
    "\n",
    "fortuna['bookie_type'] = fortuna.idxmin(axis=1)\n",
    "fortuna['bookie_type'] = fortuna['bookie_type'].replace({'fortuna_home' : 1, 'fortuna_draw' : 0, 'fortuna_away' : 2})\n",
    "\n",
    "superbet['bookie_type'] = superbet.idxmin(axis=1)\n",
    "superbet['bookie_type'] = superbet['bookie_type'].replace({'superbet_home' : 1, 'superbet_draw' : 0, 'superbet_away' : 2})"
   ]
  },
  {
   "cell_type": "code",
   "execution_count": 28,
   "id": "cb57e4d3",
   "metadata": {},
   "outputs": [
    {
     "name": "stdout",
     "output_type": "stream",
     "text": [
      "<class 'pandas.core.frame.DataFrame'>\n",
      "RangeIndex: 22969 entries, 0 to 22968\n",
      "Data columns (total 4 columns):\n",
      " #   Column       Non-Null Count  Dtype  \n",
      "---  ------       --------------  -----  \n",
      " 0   sts_home     22966 non-null  float64\n",
      " 1   sts_draw     22966 non-null  float64\n",
      " 2   sts_away     22966 non-null  float64\n",
      " 3   bookie_type  22966 non-null  float64\n",
      "dtypes: float64(4)\n",
      "memory usage: 717.9 KB\n"
     ]
    }
   ],
   "source": [
    "sts.info()"
   ]
  },
  {
   "cell_type": "code",
   "execution_count": 29,
   "id": "3acbfa45",
   "metadata": {},
   "outputs": [],
   "source": [
    "sts['result'] = target\n",
    "fortuna['result'] = target\n",
    "superbet['result'] = target"
   ]
  },
  {
   "cell_type": "code",
   "execution_count": 30,
   "id": "175a3e22",
   "metadata": {},
   "outputs": [
    {
     "name": "stdout",
     "output_type": "stream",
     "text": [
      "(22969, 5)\n",
      "(22966, 5)\n",
      "(22969, 5)\n",
      "(22964, 5)\n",
      "(22969, 5)\n",
      "(22966, 5)\n"
     ]
    }
   ],
   "source": [
    "print(sts.shape)\n",
    "sts = sts[sts['sts_away'].notna()]\n",
    "print(sts.shape)\n",
    "\n",
    "print(fortuna.shape)\n",
    "fortuna = fortuna[fortuna['fortuna_away'].notna()]\n",
    "print(fortuna.shape)\n",
    "\n",
    "print(superbet.shape)\n",
    "superbet = superbet[superbet['superbet_away'].notna()]\n",
    "print(sts.shape)"
   ]
  },
  {
   "cell_type": "code",
   "execution_count": 36,
   "id": "9970b368",
   "metadata": {},
   "outputs": [
    {
     "name": "stdout",
     "output_type": "stream",
     "text": [
      "sts accuracy:\n",
      "              precision    recall  f1-score   support\n",
      "\n",
      "           0       0.33      0.00      0.01      5874\n",
      "           1       0.53      0.83      0.64     10072\n",
      "           2       0.50      0.51      0.51      7020\n",
      "\n",
      "    accuracy                           0.52     22966\n",
      "   macro avg       0.45      0.45      0.39     22966\n",
      "weighted avg       0.47      0.52      0.44     22966\n",
      "\n",
      "[   57 15717  7192]\n",
      "fortuna accuracy:\n",
      "              precision    recall  f1-score   support\n",
      "\n",
      "           0       0.36      0.00      0.01      5875\n",
      "           1       0.53      0.82      0.64     10070\n",
      "           2       0.50      0.51      0.50      7019\n",
      "\n",
      "    accuracy                           0.52     22964\n",
      "   macro avg       0.46      0.45      0.39     22964\n",
      "weighted avg       0.48      0.52      0.44     22964\n",
      "\n",
      "[   73 15674  7217]\n",
      "superbet accuracy:\n",
      "              precision    recall  f1-score   support\n",
      "\n",
      "           0       0.35      0.00      0.01      5873\n",
      "           1       0.53      0.82      0.64     10059\n",
      "           2       0.50      0.51      0.51      7011\n",
      "\n",
      "    accuracy                           0.52     22943\n",
      "   macro avg       0.46      0.45      0.39     22943\n",
      "weighted avg       0.47      0.52      0.44     22943\n",
      "\n",
      "[   63 15664  7216]\n"
     ]
    }
   ],
   "source": [
    "from sklearn.metrics import classification_report\n",
    "\n",
    "\n",
    "sts_accuracy = classification_report(sts['result'], sts['bookie_type'])\n",
    "fortuna_accuracy = classification_report(fortuna['result'], fortuna['bookie_type'])\n",
    "superbet_accuracy = classification_report(superbet['result'], superbet['bookie_type'])\n",
    "\n",
    "print(f'sts accuracy:\\n{sts_accuracy}\\n{np.bincount(sts['bookie_type'])}')\n",
    "print(f'fortuna accuracy:\\n{fortuna_accuracy}\\n{np.bincount(fortuna['bookie_type'])}')\n",
    "print(f'superbet accuracy:\\n{superbet_accuracy}\\n{np.bincount(superbet['bookie_type'])}')"
   ]
  },
  {
   "cell_type": "code",
   "execution_count": null,
   "id": "b7089483",
   "metadata": {},
   "outputs": [],
   "source": []
  }
 ],
 "metadata": {
  "kernelspec": {
   "display_name": "Python 3",
   "language": "python",
   "name": "python3"
  },
  "language_info": {
   "codemirror_mode": {
    "name": "ipython",
    "version": 3
   },
   "file_extension": ".py",
   "mimetype": "text/x-python",
   "name": "python",
   "nbconvert_exporter": "python",
   "pygments_lexer": "ipython3",
   "version": "3.12.0"
  }
 },
 "nbformat": 4,
 "nbformat_minor": 5
}
